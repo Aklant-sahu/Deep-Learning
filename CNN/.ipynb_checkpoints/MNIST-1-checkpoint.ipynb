{
 "cells": [
  {
   "cell_type": "code",
   "execution_count": 1,
   "id": "4dc6ab6d",
   "metadata": {},
   "outputs": [],
   "source": [
    "import numpy as np\n",
    "import pandas as pd\n",
    "import matplotlib.pyplot as plt\n",
    "import seaborn as sns"
   ]
  },
  {
   "cell_type": "code",
   "execution_count": 2,
   "id": "0e308388",
   "metadata": {},
   "outputs": [],
   "source": [
    "from tensorflow.keras.datasets import mnist"
   ]
  },
  {
   "cell_type": "code",
   "execution_count": 3,
   "id": "5ff23133",
   "metadata": {},
   "outputs": [],
   "source": [
    "(x_train, y_train), (x_test, y_test)=mnist.load_data()"
   ]
  },
  {
   "cell_type": "code",
   "execution_count": 4,
   "id": "672ee923",
   "metadata": {},
   "outputs": [
    {
     "data": {
      "text/plain": [
       "(60000, 28, 28)"
      ]
     },
     "execution_count": 4,
     "metadata": {},
     "output_type": "execute_result"
    }
   ],
   "source": [
    "x_train.shape  # highest dim,high dimension se thoda kam,lowest dimension"
   ]
  },
  {
   "cell_type": "code",
   "execution_count": 5,
   "id": "afe337e4",
   "metadata": {},
   "outputs": [
    {
     "data": {
      "text/plain": [
       "(60000,)"
      ]
     },
     "execution_count": 5,
     "metadata": {},
     "output_type": "execute_result"
    }
   ],
   "source": [
    "y_train.shape  # tuples,arrays cant have a shape sirf(6000)..isliye we have (6000,) representing only rows "
   ]
  },
  {
   "cell_type": "code",
   "execution_count": 6,
   "id": "c52f9707",
   "metadata": {},
   "outputs": [],
   "source": [
    "x=np.array([[[1,2,3],[3,4,5]],[[1,2,3],[3,4,5]],[[1,2,3],[3,4,5]],[[1,2,3],[3,4,5]]])"
   ]
  },
  {
   "cell_type": "code",
   "execution_count": 7,
   "id": "221d3281",
   "metadata": {},
   "outputs": [
    {
     "data": {
      "text/plain": [
       "(4, 2, 3)"
      ]
     },
     "execution_count": 7,
     "metadata": {},
     "output_type": "execute_result"
    }
   ],
   "source": [
    "x.shape # as we see 4 is the no of layers,2 is no of rows ,3 is no of col"
   ]
  },
  {
   "cell_type": "code",
   "execution_count": 8,
   "id": "9a5224dc",
   "metadata": {},
   "outputs": [
    {
     "data": {
      "text/plain": [
       "array([[1, 2, 3],\n",
       "       [3, 4, 5],\n",
       "       [1, 2, 3],\n",
       "       [3, 4, 5],\n",
       "       [1, 2, 3],\n",
       "       [3, 4, 5],\n",
       "       [1, 2, 3],\n",
       "       [3, 4, 5]])"
      ]
     },
     "execution_count": 8,
     "metadata": {},
     "output_type": "execute_result"
    }
   ],
   "source": [
    "x.reshape(8,3) # 8 rows 3 col  # cause 1 D is no of col or first row data ..second dimension ya highest dim is no of rows "
   ]
  },
  {
   "cell_type": "code",
   "execution_count": 9,
   "id": "3532dfae",
   "metadata": {},
   "outputs": [
    {
     "data": {
      "text/plain": [
       "<matplotlib.image.AxesImage at 0x1dd1dcc2fc8>"
      ]
     },
     "execution_count": 9,
     "metadata": {},
     "output_type": "execute_result"
    },
    {
     "data": {
      "image/png": "[encoded data removed]",
      "text/plain": [
       "<Figure size 432x288 with 1 Axes>"
      ]
     },
     "metadata": {
      "needs_background": "light"
     },
     "output_type": "display_data"
    }
   ],
   "source": [
    "plt.imshow(x_train[1],cmap='gray')"
   ]
  },
  {
   "cell_type": "code",
   "execution_count": 10,
   "id": "aeb72e53",
   "metadata": {},
   "outputs": [
    {
     "data": {
      "text/plain": [
       "<matplotlib.image.AxesImage at 0x1dd1dd7e7c8>"
      ]
     },
     "execution_count": 10,
     "metadata": {},
     "output_type": "execute_result"
    },
    {
     "data": {
      "image/png": "[encoded data removed]",
      "text/plain": [
       "<Figure size 432x288 with 1 Axes>"
      ]
     },
     "metadata": {
      "needs_background": "light"
     },
     "output_type": "display_data"
    }
   ],
   "source": [
    "plt.imshow(x_train[1],cmap='viridis')"
   ]
  },
  {
   "cell_type": "code",
   "execution_count": 11,
   "id": "3fdb6ac0",
   "metadata": {},
   "outputs": [
    {
     "data": {
      "text/plain": [
       "<matplotlib.image.AxesImage at 0x1dd1ddecb08>"
      ]
     },
     "execution_count": 11,
     "metadata": {},
     "output_type": "execute_result"
    },
    {
     "data": {
      "image/png": "[encoded data removed]",
      "text/plain": [
       "<Figure size 432x288 with 1 Axes>"
      ]
     },
     "metadata": {
      "needs_background": "light"
     },
     "output_type": "display_data"
    }
   ],
   "source": [
    "plt.imshow(x_train[1],cmap='plasma')"
   ]
  },
  {
   "cell_type": "code",
   "execution_count": 12,
   "id": "6193b7e5",
   "metadata": {},
   "outputs": [
    {
     "data": {
      "text/plain": [
       "<matplotlib.image.AxesImage at 0x1dd1de51ec8>"
      ]
     },
     "execution_count": 12,
     "metadata": {},
     "output_type": "execute_result"
    },
    {
     "data": {
      "image/png": "[encoded data removed]",
      "text/plain": [
       "<Figure size 432x288 with 1 Axes>"
      ]
     },
     "metadata": {
      "needs_background": "light"
     },
     "output_type": "display_data"
    }
   ],
   "source": [
    "plt.imshow(x_train[1],cmap='inferno')"
   ]
  },
  {
   "cell_type": "code",
   "execution_count": 13,
   "id": "709c1ef1",
   "metadata": {},
   "outputs": [
    {
     "data": {
      "text/plain": [
       "<matplotlib.image.AxesImage at 0x1dd1deb7d88>"
      ]
     },
     "execution_count": 13,
     "metadata": {},
     "output_type": "execute_result"
    },
    {
     "data": {
      "image/png": "[encoded data removed]",
      "text/plain": [
       "<Figure size 864x864 with 1 Axes>"
      ]
     },
     "metadata": {
      "needs_background": "light"
     },
     "output_type": "display_data"
    }
   ],
   "source": [
    "plt.figure(figsize=(12,12))\n",
    "plt.imshow(x_train[1],cmap='gray')"
   ]
  },
  {
   "cell_type": "code",
   "execution_count": 14,
   "id": "540781a4",
   "metadata": {},
   "outputs": [],
   "source": [
    "x_train=x_train/250  # scaling everythimg down to 0-1  # this is quick min max scaling  ..casue yaha pe we know directly what\n",
    "#can be teh max value but in traditional machine learning real world data sets we dont knoow the max valiues of each col and\n",
    "#also it isnt pakka ki train  and test both have the same max values so we scaled wrt train data ka max and then just \n",
    "#transformed our test data based on it"
   ]
  },
  {
   "cell_type": "code",
   "execution_count": 15,
   "id": "058b6d9a",
   "metadata": {},
   "outputs": [],
   "source": [
    "x_test=x_test/250"
   ]
  },
  {
   "cell_type": "code",
   "execution_count": 16,
   "id": "8ac4a032",
   "metadata": {},
   "outputs": [
    {
     "data": {
      "text/plain": [
       "array([[[0., 0., 0., ..., 0., 0., 0.],\n",
       "        [0., 0., 0., ..., 0., 0., 0.],\n",
       "        [0., 0., 0., ..., 0., 0., 0.],\n",
       "        ...,\n",
       "        [0., 0., 0., ..., 0., 0., 0.],\n",
       "        [0., 0., 0., ..., 0., 0., 0.],\n",
       "        [0., 0., 0., ..., 0., 0., 0.]],\n",
       "\n",
       "       [[0., 0., 0., ..., 0., 0., 0.],\n",
       "        [0., 0., 0., ..., 0., 0., 0.],\n",
       "        [0., 0., 0., ..., 0., 0., 0.],\n",
       "        ...,\n",
       "        [0., 0., 0., ..., 0., 0., 0.],\n",
       "        [0., 0., 0., ..., 0., 0., 0.],\n",
       "        [0., 0., 0., ..., 0., 0., 0.]],\n",
       "\n",
       "       [[0., 0., 0., ..., 0., 0., 0.],\n",
       "        [0., 0., 0., ..., 0., 0., 0.],\n",
       "        [0., 0., 0., ..., 0., 0., 0.],\n",
       "        ...,\n",
       "        [0., 0., 0., ..., 0., 0., 0.],\n",
       "        [0., 0., 0., ..., 0., 0., 0.],\n",
       "        [0., 0., 0., ..., 0., 0., 0.]],\n",
       "\n",
       "       ...,\n",
       "\n",
       "       [[0., 0., 0., ..., 0., 0., 0.],\n",
       "        [0., 0., 0., ..., 0., 0., 0.],\n",
       "        [0., 0., 0., ..., 0., 0., 0.],\n",
       "        ...,\n",
       "        [0., 0., 0., ..., 0., 0., 0.],\n",
       "        [0., 0., 0., ..., 0., 0., 0.],\n",
       "        [0., 0., 0., ..., 0., 0., 0.]],\n",
       "\n",
       "       [[0., 0., 0., ..., 0., 0., 0.],\n",
       "        [0., 0., 0., ..., 0., 0., 0.],\n",
       "        [0., 0., 0., ..., 0., 0., 0.],\n",
       "        ...,\n",
       "        [0., 0., 0., ..., 0., 0., 0.],\n",
       "        [0., 0., 0., ..., 0., 0., 0.],\n",
       "        [0., 0., 0., ..., 0., 0., 0.]],\n",
       "\n",
       "       [[0., 0., 0., ..., 0., 0., 0.],\n",
       "        [0., 0., 0., ..., 0., 0., 0.],\n",
       "        [0., 0., 0., ..., 0., 0., 0.],\n",
       "        ...,\n",
       "        [0., 0., 0., ..., 0., 0., 0.],\n",
       "        [0., 0., 0., ..., 0., 0., 0.],\n",
       "        [0., 0., 0., ..., 0., 0., 0.]]])"
      ]
     },
     "execution_count": 16,
     "metadata": {},
     "output_type": "execute_result"
    }
   ],
   "source": [
    "x_test"
   ]
  },
  {
   "cell_type": "code",
   "execution_count": 17,
   "id": "0347fc26",
   "metadata": {},
   "outputs": [],
   "source": [
    "x_train=x_train.reshape(60000,28,28,1)  #1 is for color channel it wont affect our model"
   ]
  },
  {
   "cell_type": "code",
   "execution_count": 18,
   "id": "ad3114d1",
   "metadata": {},
   "outputs": [],
   "source": [
    "x_test=x_test.reshape(10000,28,28,1)"
   ]
  },
  {
   "cell_type": "code",
   "execution_count": 19,
   "id": "35a74ec8",
   "metadata": {},
   "outputs": [],
   "source": [
    "y_train_cat=pd.get_dummies(y_train).values  # since the categories are numerical to chote no se bade no that is 0-10 tak ke\n",
    "#ordrr mai hoga one hot encoding"
   ]
  },
  {
   "cell_type": "code",
   "execution_count": 20,
   "id": "4a6d82de",
   "metadata": {},
   "outputs": [
    {
     "data": {
      "text/plain": [
       "array([[0, 0, 0, ..., 0, 0, 0],\n",
       "       [1, 0, 0, ..., 0, 0, 0],\n",
       "       [0, 0, 0, ..., 0, 0, 0],\n",
       "       ...,\n",
       "       [0, 0, 0, ..., 0, 0, 0],\n",
       "       [0, 0, 0, ..., 0, 0, 0],\n",
       "       [0, 0, 0, ..., 0, 1, 0]], dtype=uint8)"
      ]
     },
     "execution_count": 20,
     "metadata": {},
     "output_type": "execute_result"
    }
   ],
   "source": [
    "y_train_cat"
   ]
  },
  {
   "cell_type": "code",
   "execution_count": 21,
   "id": "777c60e8",
   "metadata": {},
   "outputs": [],
   "source": [
    "y_test_cat=pd.get_dummies(y_test).values"
   ]
  },
  {
   "cell_type": "code",
   "execution_count": 22,
   "id": "b67fb19f",
   "metadata": {},
   "outputs": [],
   "source": [
    "from tensorflow.keras.models import Sequential"
   ]
  },
  {
   "cell_type": "code",
   "execution_count": 23,
   "id": "a7e6163c",
   "metadata": {},
   "outputs": [],
   "source": [
    "from tensorflow.keras.layers import Dense,Conv2D,Dropout,MaxPool2D,Flatten"
   ]
  },
  {
   "cell_type": "code",
   "execution_count": 24,
   "id": "e1ca2fbf",
   "metadata": {},
   "outputs": [],
   "source": [
    "from tensorflow.keras.callbacks import EarlyStopping"
   ]
  },
  {
   "cell_type": "markdown",
   "id": "2ba0d81d",
   "metadata": {},
   "source": [
    "\n",
    "## Let's start with what stride does in 1-dim case.\n",
    "Let's assume your input = [1, 0, 2, 3, 0, 1, 1] and kernel = [2, 1, 3] the result of the convolution is [8, 11, 7, 9, 4], which is calculated by sliding your kernel over the input, performing element-wise multiplication and summing everything. Like this:\n",
    "\n",
    "8 = 1 * 2 + 0 * 1 + 2 * 3\n",
    "11 = 0 * 2 + 2 * 1 + 3 * 3\n",
    "7 = 2 * 2 + 3 * 1 + 0 * 3\n",
    "9 = 3 * 2 + 0 * 1 + 1 * 3\n",
    "4 = 0 * 2 + 1 * 1 + 1 * 3\n",
    "Here we slide by one element, but nothing stops you by using any other number. This number is your stride. You can think about it as downsampling the result of the 1-strided convolution by just taking every s-th result.\n",
    "\n",
    "Knowing the input size i, kernel size k, stride s and padding p you can easily calculate the output size of the convolution as:\n",
    "\n",
    "enter image description here\n",
    "\n",
    "Here || operator means ceiling operation. For a pooling layer s = 1."
   ]
  },
  {
   "cell_type": "markdown",
   "id": "2cdd36dc",
   "metadata": {},
   "source": [
    "## The pooling and convolutional ops slide a \"window\" across the input tensor. Using tf.nn.conv2d as an example: If the input tensor has 4 dimensions: [batch, height, width, channels], then the convolution operates on a 2D window on the height, width dimensions.\n",
    "\n",
    "strides determines how much the window shifts by in each of the dimensions. The typical use sets the first (the batch) and last (the depth) stride to 1.\n",
    "\n",
    "Let's use a very concrete example: Running a 2-d convolution over a 32x32 greyscale input image. I say greyscale because then the input image has depth=1, which helps keep it simple. Let that image look like this:\n",
    "\n",
    "00 01 02 03 04 ...\n",
    "10 11 12 13 14 ...\n",
    "20 21 22 23 24 ...\n",
    "30 31 32 33 34 ...\n",
    "...\n",
    "Let's run a 2x2 convolution window over a single example (batch size = 1). We'll give the convolution an output channel depth of 8.\n",
    "\n",
    "The input to the convolution has shape=[1, 32, 32, 1].\n",
    "\n",
    "If you specify strides=[1,1,1,1] with padding=SAME, then the output of the filter will be [1, 32, 32, 8].\n",
    "\n",
    "The filter will first create an output for:\n",
    "\n",
    "F(00 01\n",
    "  10 11)\n",
    "And then for:\n",
    "\n",
    "F(01 02\n",
    "  11 12)\n",
    "and so on. Then it will move to the second row, calculating:\n",
    "\n",
    "F(10, 11\n",
    "  20, 21)\n",
    "then\n",
    "\n",
    "F(11, 12\n",
    "  21, 22)\n",
    "If you specify a stride of [1, 2, 2, 1] it won't do overlapping windows. It will compute:\n",
    "\n",
    "F(00, 01\n",
    "  10, 11)\n",
    "and then\n",
    "\n",
    "F(02, 03\n",
    "  12, 13)\n",
    "The stride operates similarly for the pooling operators.\n",
    "\n",
    "Question 2: Why strides [1, x, y, 1] for convnets\n",
    "\n",
    "The first 1 is the batch: You don't usually want to skip over examples in your batch, or you shouldn't have included them in the first place. :)\n",
    "\n",
    "The last 1 is the depth of the convolution: You don't usually want to skip inputs, for the same reason.\n",
    "\n",
    "The conv2d operator is more general, so you could create convolutions that slide the window along other dimensions, but that's not a typical use in convnets. The typical use is to use them spatially.\n",
    "\n",
    "Why reshape to -1 -1 is a placeholder that says \"adjust as necessary to match the size needed for the full tensor.\" It's a way of making the code be independent of the input batch size, so that you can change your pipeline and not have to adjust the batch size everywhere in the code.\n",
    "\n",
    "Share\n",
    "E"
   ]
  },
  {
   "cell_type": "code",
   "execution_count": 25,
   "id": "4e337c5e",
   "metadata": {},
   "outputs": [],
   "source": [
    "base_mod=Sequential()  # model toh sequential rhega cause sequentially hi data jaega sirf layers change hoga"
   ]
  },
  {
   "cell_type": "code",
   "execution_count": 26,
   "id": "565f5c2f",
   "metadata": {},
   "outputs": [],
   "source": [
    "base_mod.add(Conv2D(filters=32,kernel_size=(3,3),strides=(1,1),activation='relu',padding='valid') )\n",
    "## stride is just a tuple of 2 here cause no of layers and \n",
    "#channels is removed in conv2d after new update cause its coompulsory to go through every image and every color channel\n",
    "\n",
    "# filters are bascially by convention we take it as a power of two depending on how lrge is the data set or how many faetures there maybe in a data \n",
    "#set so one filter to figure out each feature you can experiment with it"
   ]
  },
  {
   "cell_type": "code",
   "execution_count": 27,
   "id": "9690ebc0",
   "metadata": {},
   "outputs": [],
   "source": [
    "base_mod.add(MaxPool2D(pool_size=(2, 2)))\n",
    "base_mod.add(Flatten())   # flattens the 2d image into a series of pixel values so that it could be inputted in dense layers"
   ]
  },
  {
   "cell_type": "code",
   "execution_count": 28,
   "id": "d4f95eab",
   "metadata": {},
   "outputs": [],
   "source": [
    "base_mod.add(Dense(500,activation='relu'))"
   ]
  },
  {
   "cell_type": "code",
   "execution_count": 29,
   "id": "0577df2b",
   "metadata": {},
   "outputs": [],
   "source": [
    "base_mod.add(Dropout(0.15))"
   ]
  },
  {
   "cell_type": "code",
   "execution_count": 30,
   "id": "3e4dde8d",
   "metadata": {},
   "outputs": [],
   "source": [
    "base_mod.add(Dense(200,activation='relu'))"
   ]
  },
  {
   "cell_type": "code",
   "execution_count": 31,
   "id": "760c729b",
   "metadata": {},
   "outputs": [],
   "source": [
    "base_mod.add(Dropout(0.15))"
   ]
  },
  {
   "cell_type": "code",
   "execution_count": 32,
   "id": "d2669ffe",
   "metadata": {},
   "outputs": [],
   "source": [
    "base_mod.add(Dense(100,activation='relu'))\n",
    "\n",
    "base_mod.add(Dropout(0.15))"
   ]
  },
  {
   "cell_type": "code",
   "execution_count": 33,
   "id": "ac7606b7",
   "metadata": {},
   "outputs": [],
   "source": [
    "base_mod.add(Dense(50,activation='relu'))\n",
    "\n",
    "base_mod.add(Dropout(0.15))"
   ]
  },
  {
   "cell_type": "code",
   "execution_count": 34,
   "id": "9fca067a",
   "metadata": {},
   "outputs": [],
   "source": [
    "base_mod.add(Dense(10,activation='softmax'))  # us esoftmax whn you have more than 2 classes..binary classes hota toh sigmoid\n"
   ]
  },
  {
   "cell_type": "code",
   "execution_count": 39,
   "id": "b38cac81",
   "metadata": {},
   "outputs": [],
   "source": [
    "base_mod.compile(optimizer='adam',\n",
    "    loss='categorical_crossentropy',metrics=['accuracy'])  # isme metrics mai accuracy dala cause when multiple ctegory we cant\n",
    "# directly interpret loss cause it can even be greater than one so we want accuracy to have a direct idea of how model is performing"
   ]
  },
  {
   "cell_type": "code",
   "execution_count": 40,
   "id": "519a24eb",
   "metadata": {},
   "outputs": [],
   "source": [
    "early=EarlyStopping(monitor='val_loss',mode='min',patience=5)"
   ]
  },
  {
   "cell_type": "code",
   "execution_count": 41,
   "id": "32f29b98",
   "metadata": {},
   "outputs": [
    {
     "name": "stdout",
     "output_type": "stream",
     "text": [
      "Train on 60000 samples, validate on 10000 samples\n",
      "Epoch 1/50\n",
      "60000/60000 [==============================] - 24s 400us/sample - loss: 0.4916 - accuracy: 0.8437 - val_loss: 0.1313 - val_accuracy: 0.9607\n",
      "Epoch 2/50\n",
      "60000/60000 [==============================] - 22s 366us/sample - loss: 0.1301 - accuracy: 0.9629 - val_loss: 0.0662 - val_accuracy: 0.9795\n",
      "Epoch 3/50\n",
      "60000/60000 [==============================] - 22s 365us/sample - loss: 0.0751 - accuracy: 0.9787 - val_loss: 0.0505 - val_accuracy: 0.9843\n",
      "Epoch 4/50\n",
      "60000/60000 [==============================] - 22s 369us/sample - loss: 0.0543 - accuracy: 0.9845 - val_loss: 0.0441 - val_accuracy: 0.9861\n",
      "Epoch 5/50\n",
      "60000/60000 [==============================] - 22s 365us/sample - loss: 0.0394 - accuracy: 0.9887 - val_loss: 0.0441 - val_accuracy: 0.9875\n",
      "Epoch 6/50\n",
      "60000/60000 [==============================] - 22s 366us/sample - loss: 0.0320 - accuracy: 0.9912 - val_loss: 0.0480 - val_accuracy: 0.9869\n",
      "Epoch 7/50\n",
      "60000/60000 [==============================] - 22s 365us/sample - loss: 0.0258 - accuracy: 0.9924 - val_loss: 0.0387 - val_accuracy: 0.9888\n",
      "Epoch 8/50\n",
      "60000/60000 [==============================] - 22s 365us/sample - loss: 0.0207 - accuracy: 0.9942 - val_loss: 0.0404 - val_accuracy: 0.9895\n",
      "Epoch 9/50\n",
      "60000/60000 [==============================] - 22s 367us/sample - loss: 0.0166 - accuracy: 0.9951 - val_loss: 0.0502 - val_accuracy: 0.9871\n",
      "Epoch 10/50\n",
      "60000/60000 [==============================] - 22s 364us/sample - loss: 0.0169 - accuracy: 0.9951 - val_loss: 0.0427 - val_accuracy: 0.9887\n",
      "Epoch 11/50\n",
      "60000/60000 [==============================] - 22s 366us/sample - loss: 0.0127 - accuracy: 0.9964 - val_loss: 0.0454 - val_accuracy: 0.9893\n",
      "Epoch 12/50\n",
      "60000/60000 [==============================] - 22s 367us/sample - loss: 0.0086 - accuracy: 0.9977 - val_loss: 0.0524 - val_accuracy: 0.9871\n"
     ]
    },
    {
     "data": {
      "text/plain": [
       "<tensorflow.python.keras.callbacks.History at 0x1dd18df4448>"
      ]
     },
     "execution_count": 41,
     "metadata": {},
     "output_type": "execute_result"
    }
   ],
   "source": [
    "base_mod.fit(x_train,y_train_cat,batch_size=512, validation_data=(x_test,y_test_cat),epochs=50,callbacks=[early])"
   ]
  },
  {
   "cell_type": "code",
   "execution_count": 42,
   "id": "9e129c3a",
   "metadata": {},
   "outputs": [],
   "source": [
    "metrics=pd.DataFrame(base_mod.history.history)"
   ]
  },
  {
   "cell_type": "code",
   "execution_count": 43,
   "id": "1ee7052a",
   "metadata": {},
   "outputs": [
    {
     "data": {
      "text/html": [
       "<div>\n",
       "<style scoped>\n",
       "    .dataframe tbody tr th:only-of-type {\n",
       "        vertical-align: middle;\n",
       "    }\n",
       "\n",
       "    .dataframe tbody tr th {\n",
       "        vertical-align: top;\n",
       "    }\n",
       "\n",
       "    .dataframe thead th {\n",
       "        text-align: right;\n",
       "    }\n",
       "</style>\n",
       "<table border=\"1\" class=\"dataframe\">\n",
       "  <thead>\n",
       "    <tr style=\"text-align: right;\">\n",
       "      <th></th>\n",
       "      <th>loss</th>\n",
       "      <th>accuracy</th>\n",
       "      <th>val_loss</th>\n",
       "      <th>val_accuracy</th>\n",
       "    </tr>\n",
       "  </thead>\n",
       "  <tbody>\n",
       "    <tr>\n",
       "      <th>0</th>\n",
       "      <td>0.491594</td>\n",
       "      <td>0.843717</td>\n",
       "      <td>0.131266</td>\n",
       "      <td>0.9607</td>\n",
       "    </tr>\n",
       "    <tr>\n",
       "      <th>1</th>\n",
       "      <td>0.130087</td>\n",
       "      <td>0.962917</td>\n",
       "      <td>0.066187</td>\n",
       "      <td>0.9795</td>\n",
       "    </tr>\n",
       "    <tr>\n",
       "      <th>2</th>\n",
       "      <td>0.075139</td>\n",
       "      <td>0.978733</td>\n",
       "      <td>0.050513</td>\n",
       "      <td>0.9843</td>\n",
       "    </tr>\n",
       "    <tr>\n",
       "      <th>3</th>\n",
       "      <td>0.054319</td>\n",
       "      <td>0.984517</td>\n",
       "      <td>0.044137</td>\n",
       "      <td>0.9861</td>\n",
       "    </tr>\n",
       "    <tr>\n",
       "      <th>4</th>\n",
       "      <td>0.039441</td>\n",
       "      <td>0.988733</td>\n",
       "      <td>0.044145</td>\n",
       "      <td>0.9875</td>\n",
       "    </tr>\n",
       "    <tr>\n",
       "      <th>5</th>\n",
       "      <td>0.031990</td>\n",
       "      <td>0.991150</td>\n",
       "      <td>0.048019</td>\n",
       "      <td>0.9869</td>\n",
       "    </tr>\n",
       "    <tr>\n",
       "      <th>6</th>\n",
       "      <td>0.025768</td>\n",
       "      <td>0.992417</td>\n",
       "      <td>0.038684</td>\n",
       "      <td>0.9888</td>\n",
       "    </tr>\n",
       "    <tr>\n",
       "      <th>7</th>\n",
       "      <td>0.020691</td>\n",
       "      <td>0.994167</td>\n",
       "      <td>0.040377</td>\n",
       "      <td>0.9895</td>\n",
       "    </tr>\n",
       "    <tr>\n",
       "      <th>8</th>\n",
       "      <td>0.016569</td>\n",
       "      <td>0.995083</td>\n",
       "      <td>0.050166</td>\n",
       "      <td>0.9871</td>\n",
       "    </tr>\n",
       "    <tr>\n",
       "      <th>9</th>\n",
       "      <td>0.016946</td>\n",
       "      <td>0.995067</td>\n",
       "      <td>0.042686</td>\n",
       "      <td>0.9887</td>\n",
       "    </tr>\n",
       "    <tr>\n",
       "      <th>10</th>\n",
       "      <td>0.012687</td>\n",
       "      <td>0.996417</td>\n",
       "      <td>0.045443</td>\n",
       "      <td>0.9893</td>\n",
       "    </tr>\n",
       "    <tr>\n",
       "      <th>11</th>\n",
       "      <td>0.008585</td>\n",
       "      <td>0.997683</td>\n",
       "      <td>0.052399</td>\n",
       "      <td>0.9871</td>\n",
       "    </tr>\n",
       "  </tbody>\n",
       "</table>\n",
       "</div>"
      ],
      "text/plain": [
       "        loss  accuracy  val_loss  val_accuracy\n",
       "0   0.491594  0.843717  0.131266        0.9607\n",
       "1   0.130087  0.962917  0.066187        0.9795\n",
       "2   0.075139  0.978733  0.050513        0.9843\n",
       "3   0.054319  0.984517  0.044137        0.9861\n",
       "4   0.039441  0.988733  0.044145        0.9875\n",
       "5   0.031990  0.991150  0.048019        0.9869\n",
       "6   0.025768  0.992417  0.038684        0.9888\n",
       "7   0.020691  0.994167  0.040377        0.9895\n",
       "8   0.016569  0.995083  0.050166        0.9871\n",
       "9   0.016946  0.995067  0.042686        0.9887\n",
       "10  0.012687  0.996417  0.045443        0.9893\n",
       "11  0.008585  0.997683  0.052399        0.9871"
      ]
     },
     "execution_count": 43,
     "metadata": {},
     "output_type": "execute_result"
    }
   ],
   "source": [
    "metrics"
   ]
  },
  {
   "cell_type": "code",
   "execution_count": 45,
   "id": "992eedc8",
   "metadata": {},
   "outputs": [
    {
     "data": {
      "text/plain": [
       "[<matplotlib.lines.Line2D at 0x1dd39e15108>]"
      ]
     },
     "execution_count": 45,
     "metadata": {},
     "output_type": "execute_result"
    },
    {
     "data": {
      "image/png": "[encoded data removed]",
      "text/plain": [
       "<Figure size 432x288 with 1 Axes>"
      ]
     },
     "metadata": {
      "needs_background": "light"
     },
     "output_type": "display_data"
    }
   ],
   "source": [
    "plt.plot(range(0,12),metrics['loss'])\n",
    "plt.plot(range(0,12),metrics['val_loss'],color='r')"
   ]
  },
  {
   "cell_type": "code",
   "execution_count": 46,
   "id": "381c4081",
   "metadata": {},
   "outputs": [
    {
     "data": {
      "text/plain": [
       "[<matplotlib.lines.Line2D at 0x1dd39f642c8>]"
      ]
     },
     "execution_count": 46,
     "metadata": {},
     "output_type": "execute_result"
    },
    {
     "data": {
      "image/png": "[encoded data removed]",
      "text/plain": [
       "<Figure size 432x288 with 1 Axes>"
      ]
     },
     "metadata": {
      "needs_background": "light"
     },
     "output_type": "display_data"
    }
   ],
   "source": [
    "plt.plot(range(0,12),metrics['accuracy'])\n",
    "plt.plot(range(0,12),metrics['val_accuracy'],color='r')"
   ]
  },
  {
   "cell_type": "code",
   "execution_count": 49,
   "id": "765e4847",
   "metadata": {},
   "outputs": [],
   "source": [
    "sample=x_train[5]"
   ]
  },
  {
   "cell_type": "code",
   "execution_count": 59,
   "id": "a896aeae",
   "metadata": {},
   "outputs": [
    {
     "data": {
      "text/plain": [
       "2"
      ]
     },
     "execution_count": 59,
     "metadata": {},
     "output_type": "execute_result"
    }
   ],
   "source": [
    "y_train[5]"
   ]
  },
  {
   "cell_type": "code",
   "execution_count": 53,
   "id": "be8a6786",
   "metadata": {},
   "outputs": [
    {
     "data": {
      "text/plain": [
       "<matplotlib.image.AxesImage at 0x1dd3a4b4ec8>"
      ]
     },
     "execution_count": 53,
     "metadata": {},
     "output_type": "execute_result"
    },
    {
     "data": {
      "image/png": "[encoded data removed]",
      "text/plain": [
       "<Figure size 432x288 with 1 Axes>"
      ]
     },
     "metadata": {
      "needs_background": "light"
     },
     "output_type": "display_data"
    }
   ],
   "source": [
    "plt.imshow(sample.reshape(28,28))"
   ]
  },
  {
   "cell_type": "code",
   "execution_count": 57,
   "id": "d1e6da3f",
   "metadata": {},
   "outputs": [
    {
     "data": {
      "text/plain": [
       "(28, 28, 1)"
      ]
     },
     "execution_count": 57,
     "metadata": {},
     "output_type": "execute_result"
    }
   ],
   "source": [
    "sample.shape"
   ]
  },
  {
   "cell_type": "code",
   "execution_count": 58,
   "id": "e16dfd17",
   "metadata": {},
   "outputs": [
    {
     "data": {
      "text/plain": [
       "array([2], dtype=int64)"
      ]
     },
     "execution_count": 58,
     "metadata": {},
     "output_type": "execute_result"
    }
   ],
   "source": [
    "base_mod.predict_classes(sample.reshape(1,28,28,1))"
   ]
  },
  {
   "cell_type": "markdown",
   "id": "20501b76",
   "metadata": {},
   "source": [
    "## we classified the image correctly"
   ]
  },
  {
   "cell_type": "code",
   "execution_count": null,
   "id": "c9abf236",
   "metadata": {},
   "outputs": [],
   "source": []
  }
 ],
 "metadata": {
  "kernelspec": {
   "display_name": "Python 3 (ipykernel)",
   "language": "python",
   "name": "python3"
  },
  "language_info": {
   "codemirror_mode": {
    "name": "ipython",
    "version": 3
   },
   "file_extension": ".py",
   "mimetype": "text/x-python",
   "name": "python",
   "nbconvert_exporter": "python",
   "pygments_lexer": "ipython3",
   "version": "3.7.11"
  }
 },
 "nbformat": 4,
 "nbformat_minor": 5
}
