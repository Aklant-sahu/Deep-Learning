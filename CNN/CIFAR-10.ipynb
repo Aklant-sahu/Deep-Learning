{
 "cells": [
  {
   "cell_type": "code",
   "execution_count": 1,
   "id": "3309dcdd",
   "metadata": {},
   "outputs": [],
   "source": [
    "import numpy as np\n",
    "import pandas as pd\n",
    "import matplotlib.pyplot as plt\n",
    "import seaborn as sns\n"
   ]
  },
  {
   "cell_type": "code",
   "execution_count": 2,
   "id": "cbb14121",
   "metadata": {},
   "outputs": [],
   "source": [
    "from tensorflow.keras.datasets import cifar10"
   ]
  },
  {
   "cell_type": "code",
   "execution_count": 3,
   "id": "0ef77f97",
   "metadata": {},
   "outputs": [],
   "source": [
    "(x_train, y_train), (x_test, y_test)=cifar10.load_data()"
   ]
  },
  {
   "cell_type": "code",
   "execution_count": 4,
   "id": "cebe9dd1",
   "metadata": {},
   "outputs": [
    {
     "data": {
      "text/plain": [
       "(50000, 32, 32, 3)"
      ]
     },
     "execution_count": 4,
     "metadata": {},
     "output_type": "execute_result"
    }
   ],
   "source": [
    "x_train.shape"
   ]
  },
  {
   "cell_type": "code",
   "execution_count": 5,
   "id": "9d8ce5fc",
   "metadata": {},
   "outputs": [
    {
     "data": {
      "text/plain": [
       "(10000, 32, 32, 3)"
      ]
     },
     "execution_count": 5,
     "metadata": {},
     "output_type": "execute_result"
    }
   ],
   "source": [
    "x_test.shape"
   ]
  },
  {
   "cell_type": "code",
   "execution_count": 6,
   "id": "03327db0",
   "metadata": {
    "scrolled": true
   },
   "outputs": [
    {
     "data": {
      "text/plain": [
       "<matplotlib.image.AxesImage at 0x2645c9e2b08>"
      ]
     },
     "execution_count": 6,
     "metadata": {},
     "output_type": "execute_result"
    },
    {
     "data": {
      "image/png": "[encoded data removed]",
      "text/plain": [
       "<Figure size 432x288 with 1 Axes>"
      ]
     },
     "metadata": {
      "needs_background": "light"
     },
     "output_type": "display_data"
    }
   ],
   "source": [
    "plt.imshow(x_train[0])"
   ]
  },
  {
   "cell_type": "code",
   "execution_count": 7,
   "id": "436b9bb4",
   "metadata": {},
   "outputs": [
    {
     "data": {
      "text/plain": [
       "<matplotlib.image.AxesImage at 0x26469ac0088>"
      ]
     },
     "execution_count": 7,
     "metadata": {},
     "output_type": "execute_result"
    },
    {
     "data": {
      "image/png": "[encoded data removed]",
      "text/plain": [
       "<Figure size 300x200 with 1 Axes>"
      ]
     },
     "metadata": {
      "needs_background": "light"
     },
     "output_type": "display_data"
    }
   ],
   "source": [
    "plt.figure(dpi=50)\n",
    "plt.imshow(x_train[1])"
   ]
  },
  {
   "cell_type": "code",
   "execution_count": 8,
   "id": "f2dd46c3",
   "metadata": {},
   "outputs": [],
   "source": [
    "x_train=x_train/250"
   ]
  },
  {
   "cell_type": "code",
   "execution_count": 9,
   "id": "26a0111d",
   "metadata": {},
   "outputs": [],
   "source": [
    "x_test=x_test/250"
   ]
  },
  {
   "cell_type": "code",
   "execution_count": 10,
   "id": "0a32a8c9",
   "metadata": {},
   "outputs": [],
   "source": [
    "y_cat_train=pd.get_dummies(y_train.reshape(50000)).values"
   ]
  },
  {
   "cell_type": "code",
   "execution_count": 11,
   "id": "1ce0984f",
   "metadata": {},
   "outputs": [
    {
     "data": {
      "text/plain": [
       "array([[0, 0, 0, ..., 0, 0, 0],\n",
       "       [0, 0, 0, ..., 0, 0, 1],\n",
       "       [0, 0, 0, ..., 0, 0, 1],\n",
       "       ...,\n",
       "       [0, 0, 0, ..., 0, 0, 1],\n",
       "       [0, 1, 0, ..., 0, 0, 0],\n",
       "       [0, 1, 0, ..., 0, 0, 0]], dtype=uint8)"
      ]
     },
     "execution_count": 11,
     "metadata": {},
     "output_type": "execute_result"
    }
   ],
   "source": [
    "y_cat_train"
   ]
  },
  {
   "cell_type": "code",
   "execution_count": 12,
   "id": "742e3198",
   "metadata": {},
   "outputs": [
    {
     "data": {
      "text/plain": [
       "array([[0, 0, 0, ..., 0, 0, 0],\n",
       "       [0, 0, 0, ..., 0, 1, 0],\n",
       "       [0, 0, 0, ..., 0, 1, 0],\n",
       "       ...,\n",
       "       [0, 0, 0, ..., 0, 0, 0],\n",
       "       [0, 1, 0, ..., 0, 0, 0],\n",
       "       [0, 0, 0, ..., 1, 0, 0]], dtype=uint8)"
      ]
     },
     "execution_count": 12,
     "metadata": {},
     "output_type": "execute_result"
    }
   ],
   "source": [
    "y_cat_test=pd.get_dummies(y_test.reshape(10000)).values\n",
    "\n",
    "y_cat_test"
   ]
  },
  {
   "cell_type": "code",
   "execution_count": 13,
   "id": "c4463949",
   "metadata": {},
   "outputs": [],
   "source": [
    "from tensorflow.keras.models import Sequential"
   ]
  },
  {
   "cell_type": "code",
   "execution_count": 14,
   "id": "44f73fa6",
   "metadata": {},
   "outputs": [],
   "source": [
    "from tensorflow.keras.layers import Dense,Conv2D,Dropout,MaxPool2D,Flatten"
   ]
  },
  {
   "cell_type": "code",
   "execution_count": 15,
   "id": "784699eb",
   "metadata": {},
   "outputs": [],
   "source": [
    "from tensorflow.keras.callbacks import EarlyStopping"
   ]
  },
  {
   "cell_type": "code",
   "execution_count": 16,
   "id": "63032b18",
   "metadata": {},
   "outputs": [],
   "source": [
    "base_mod=Sequential()"
   ]
  },
  {
   "cell_type": "code",
   "execution_count": 17,
   "id": "ad43f5bc",
   "metadata": {},
   "outputs": [],
   "source": [
    "base_mod.add(Conv2D(filters=32,kernel_size=(5,5),activation='relu'))"
   ]
  },
  {
   "cell_type": "code",
   "execution_count": 18,
   "id": "ec149a96",
   "metadata": {},
   "outputs": [],
   "source": [
    "base_mod.add(MaxPool2D((2,2)))"
   ]
  },
  {
   "cell_type": "code",
   "execution_count": 19,
   "id": "9c14870d",
   "metadata": {},
   "outputs": [],
   "source": [
    "base_mod.add(Conv2D(filters=64,kernel_size=(3,3),activation='relu'))"
   ]
  },
  {
   "cell_type": "code",
   "execution_count": 20,
   "id": "d13d323f",
   "metadata": {},
   "outputs": [],
   "source": [
    "base_mod.add(MaxPool2D((2,2)))"
   ]
  },
  {
   "cell_type": "code",
   "execution_count": 21,
   "id": "6f0c72f1",
   "metadata": {},
   "outputs": [],
   "source": [
    "#base_mod.add(Conv2D(filters=128,kernel_size=(3,3),activation='relu'))\n",
    "\n",
    "#base_mod.add(MaxPool2D((2,2)))     cause issse kaafi chots ho jata hai input matrix so kkaaf info loss atleast 1/5 of \n",
    "#height and width rehna chahiye before flattening"
   ]
  },
  {
   "cell_type": "code",
   "execution_count": 22,
   "id": "f6ba1bf5",
   "metadata": {},
   "outputs": [],
   "source": [
    "base_mod.add(Flatten())"
   ]
  },
  {
   "cell_type": "code",
   "execution_count": 23,
   "id": "c780ce82",
   "metadata": {},
   "outputs": [],
   "source": [
    "base_mod.add(Dense( units=1660,\n",
    "    activation='relu'))\n",
    "base_mod.add(Dropout(0.15))"
   ]
  },
  {
   "cell_type": "code",
   "execution_count": 24,
   "id": "f49eab2a",
   "metadata": {},
   "outputs": [],
   "source": [
    "base_mod.add(Dense( units=800,\n",
    "    activation='relu'))\n",
    "base_mod.add(Dropout(0.15))"
   ]
  },
  {
   "cell_type": "code",
   "execution_count": 25,
   "id": "a70f73b3",
   "metadata": {},
   "outputs": [],
   "source": [
    "base_mod.add(Dense( units=400,\n",
    "    activation='relu'))\n",
    "base_mod.add(Dropout(0.15))"
   ]
  },
  {
   "cell_type": "code",
   "execution_count": 26,
   "id": "ff263e57",
   "metadata": {},
   "outputs": [],
   "source": [
    "base_mod.add(Dense( units=200,\n",
    "    activation='relu'))\n",
    "base_mod.add(Dropout(0.15))"
   ]
  },
  {
   "cell_type": "code",
   "execution_count": 27,
   "id": "b4ea191d",
   "metadata": {},
   "outputs": [],
   "source": [
    "base_mod.add(Dense( units=100,\n",
    "    activation='relu'))\n",
    "base_mod.add(Dropout(0.15))\n",
    "base_mod.add(Dense( units=50,\n",
    "    activation='relu'))        # skip the second last neuron state of 25 cause mere isme 25 features are kaafi come for one \n",
    "#image to classify it into the following 10 categoreis so even if every  image ka 5 different features consider kiya toh around\n",
    "#50 neurons ya 50 input hona chahiye second last layer mai..if 20 classes hota maybe mai 100-140 neurons rakhta scond last mai\n",
    "#..cause jaise no of images increases the no of distinct features to properly classify must also increase at the end it all \n",
    "#depends upon the image type the type of categories and how different each image category is cause the larger the variation \n",
    "#between different image classes the less no of features are required to classify\n",
    "base_mod.add(Dropout(0.15))\n",
    "#base_mod.add(Dense( units=25,\n",
    "    #activation='relu'))\n",
    "#base_mod.add(Dropout(0.15))"
   ]
  },
  {
   "cell_type": "code",
   "execution_count": null,
   "id": "8372ae18",
   "metadata": {},
   "outputs": [],
   "source": []
  },
  {
   "cell_type": "code",
   "execution_count": 28,
   "id": "d5d7be44",
   "metadata": {},
   "outputs": [],
   "source": [
    "base_mod.add(Dense( units=10,\n",
    "    activation='softmax'))"
   ]
  },
  {
   "cell_type": "code",
   "execution_count": 29,
   "id": "ab0975a9",
   "metadata": {},
   "outputs": [],
   "source": [
    "base_mod.compile(optimizer='adam',\n",
    "    loss='categorical_crossentropy',metrics=['accuracy'])"
   ]
  },
  {
   "cell_type": "code",
   "execution_count": 30,
   "id": "58b4d92a",
   "metadata": {},
   "outputs": [],
   "source": [
    "early=EarlyStopping(monitor='val_loss',mode='min',patience=5)"
   ]
  },
  {
   "cell_type": "markdown",
   "id": "b4c6d1f3",
   "metadata": {},
   "source": []
  },
  {
   "cell_type": "code",
   "execution_count": 31,
   "id": "b2ae9617",
   "metadata": {},
   "outputs": [
    {
     "name": "stdout",
     "output_type": "stream",
     "text": [
      "Train on 50000 samples, validate on 10000 samples\n",
      "Epoch 1/50\n",
      "50000/50000 [==============================] - 54s 1ms/sample - loss: 1.9374 - accuracy: 0.2598 - val_loss: 1.5317 - val_accuracy: 0.4450\n",
      "Epoch 2/50\n",
      "50000/50000 [==============================] - 49s 970us/sample - loss: 1.4437 - accuracy: 0.4768 - val_loss: 1.2683 - val_accuracy: 0.5400\n",
      "Epoch 3/50\n",
      "50000/50000 [==============================] - 46s 925us/sample - loss: 1.2311 - accuracy: 0.5611 - val_loss: 1.1397 - val_accuracy: 0.5935\n",
      "Epoch 4/50\n",
      "50000/50000 [==============================] - 46s 927us/sample - loss: 1.0704 - accuracy: 0.6255 - val_loss: 1.0316 - val_accuracy: 0.6341\n",
      "Epoch 5/50\n",
      "50000/50000 [==============================] - 47s 931us/sample - loss: 0.9200 - accuracy: 0.6822 - val_loss: 0.9962 - val_accuracy: 0.6523\n",
      "Epoch 6/50\n",
      "50000/50000 [==============================] - 46s 919us/sample - loss: 0.7749 - accuracy: 0.7349 - val_loss: 0.9531 - val_accuracy: 0.6873\n",
      "Epoch 7/50\n",
      "50000/50000 [==============================] - 46s 913us/sample - loss: 0.6573 - accuracy: 0.7765 - val_loss: 0.9924 - val_accuracy: 0.6821\n",
      "Epoch 8/50\n",
      "50000/50000 [==============================] - 46s 929us/sample - loss: 0.5513 - accuracy: 0.8155 - val_loss: 1.0131 - val_accuracy: 0.6915\n",
      "Epoch 9/50\n",
      "50000/50000 [==============================] - 51s 1ms/sample - loss: 0.4457 - accuracy: 0.8523 - val_loss: 1.0097 - val_accuracy: 0.7049\n",
      "Epoch 10/50\n",
      "50000/50000 [==============================] - 52s 1ms/sample - loss: 0.3678 - accuracy: 0.8788 - val_loss: 1.0899 - val_accuracy: 0.6922\n",
      "Epoch 11/50\n",
      "50000/50000 [==============================] - 51s 1ms/sample - loss: 0.2942 - accuracy: 0.9049 - val_loss: 1.1851 - val_accuracy: 0.6896\n"
     ]
    },
    {
     "data": {
      "text/plain": [
       "<tensorflow.python.keras.callbacks.History at 0x2645cfad088>"
      ]
     },
     "execution_count": 31,
     "metadata": {},
     "output_type": "execute_result"
    }
   ],
   "source": [
    "base_mod.fit(x_train,y_cat_train,batch_size=512, validation_data=(x_test,y_cat_test),epochs=50,callbacks=[early])"
   ]
  },
  {
   "cell_type": "markdown",
   "id": "fb10ae37",
   "metadata": {},
   "source": [
    "## as we can see by choosing some appropriate measure our model peformed well..lets try with some models "
   ]
  },
  {
   "cell_type": "code",
   "execution_count": 32,
   "id": "f5a91186",
   "metadata": {},
   "outputs": [
    {
     "name": "stdout",
     "output_type": "stream",
     "text": [
      "WARNING:tensorflow:From c:\\users\\asus\\anaconda3\\envs\\deep_lenv\\lib\\site-packages\\tensorflow_core\\python\\ops\\resource_variable_ops.py:1781: calling BaseResourceVariable.__init__ (from tensorflow.python.ops.resource_variable_ops) with constraint is deprecated and will be removed in a future version.\n",
      "Instructions for updating:\n",
      "If using Keras pass *_constraint arguments to layers.\n",
      "INFO:tensorflow:Assets written to: CIFAR-10-MODEL.tf\\assets\n"
     ]
    }
   ],
   "source": [
    "base_mod.save('CIFAR-10-MODEL.tf')"
   ]
  },
  {
   "cell_type": "code",
   "execution_count": 33,
   "id": "55eaceb7",
   "metadata": {},
   "outputs": [],
   "source": [
    "pred=base_mod.predict_classes(x_test)"
   ]
  },
  {
   "cell_type": "code",
   "execution_count": 34,
   "id": "cb4a8675",
   "metadata": {},
   "outputs": [],
   "source": [
    "from sklearn.metrics import accuracy_score,classification_report,confusion_matrix"
   ]
  },
  {
   "cell_type": "code",
   "execution_count": 42,
   "id": "b6413610",
   "metadata": {},
   "outputs": [
    {
     "name": "stdout",
     "output_type": "stream",
     "text": [
      "              precision    recall  f1-score   support\n",
      "\n",
      "           0       0.76      0.72      0.74      1000\n",
      "           1       0.80      0.82      0.81      1000\n",
      "           2       0.65      0.53      0.58      1000\n",
      "           3       0.48      0.47      0.47      1000\n",
      "           4       0.68      0.58      0.63      1000\n",
      "           5       0.54      0.62      0.58      1000\n",
      "           6       0.77      0.78      0.77      1000\n",
      "           7       0.72      0.77      0.74      1000\n",
      "           8       0.85      0.75      0.80      1000\n",
      "           9       0.68      0.86      0.76      1000\n",
      "\n",
      "   micro avg       0.69      0.69      0.69     10000\n",
      "   macro avg       0.69      0.69      0.69     10000\n",
      "weighted avg       0.69      0.69      0.69     10000\n",
      " samples avg       0.69      0.69      0.69     10000\n",
      "\n"
     ]
    }
   ],
   "source": [
    "print(classification_report(y_cat_test,pd.get_dummies(pred)))"
   ]
  },
  {
   "cell_type": "code",
   "execution_count": 43,
   "id": "c83a24dd",
   "metadata": {},
   "outputs": [
    {
     "data": {
      "text/plain": [
       "array([3, 8, 1, ..., 5, 1, 7], dtype=int64)"
      ]
     },
     "execution_count": 43,
     "metadata": {},
     "output_type": "execute_result"
    }
   ],
   "source": [
    "pred"
   ]
  },
  {
   "cell_type": "code",
   "execution_count": 45,
   "id": "d001147c",
   "metadata": {},
   "outputs": [
    {
     "data": {
      "text/plain": [
       "<matplotlib.image.AxesImage at 0x264633e7288>"
      ]
     },
     "execution_count": 45,
     "metadata": {},
     "output_type": "execute_result"
    },
    {
     "data": {
      "image/png": "[encoded data removed]",
      "text/plain": [
       "<Figure size 432x288 with 1 Axes>"
      ]
     },
     "metadata": {
      "needs_background": "light"
     },
     "output_type": "display_data"
    }
   ],
   "source": [
    "plt.imshow(x_test[5])"
   ]
  },
  {
   "cell_type": "code",
   "execution_count": 46,
   "id": "f065d909",
   "metadata": {},
   "outputs": [
    {
     "data": {
      "text/plain": [
       "array([6], dtype=uint8)"
      ]
     },
     "execution_count": 46,
     "metadata": {},
     "output_type": "execute_result"
    }
   ],
   "source": [
    "y_test[5]"
   ]
  },
  {
   "cell_type": "code",
   "execution_count": 48,
   "id": "bdf3c8b8",
   "metadata": {},
   "outputs": [
    {
     "data": {
      "text/plain": [
       "array([6], dtype=int64)"
      ]
     },
     "execution_count": 48,
     "metadata": {},
     "output_type": "execute_result"
    }
   ],
   "source": [
    "base_mod.predict_classes(x_test[5].reshape(1,32,32,3))"
   ]
  },
  {
   "cell_type": "code",
   "execution_count": 49,
   "id": "4a49fa7f",
   "metadata": {},
   "outputs": [],
   "source": [
    "# hence we are predicting accurately"
   ]
  },
  {
   "cell_type": "code",
   "execution_count": null,
   "id": "939e8660",
   "metadata": {},
   "outputs": [],
   "source": []
  }
 ],
 "metadata": {
  "kernelspec": {
   "display_name": "Python 3 (ipykernel)",
   "language": "python",
   "name": "python3"
  },
  "language_info": {
   "codemirror_mode": {
    "name": "ipython",
    "version": 3
   },
   "file_extension": ".py",
   "mimetype": "text/x-python",
   "name": "python",
   "nbconvert_exporter": "python",
   "pygments_lexer": "ipython3",
   "version": "3.7.11"
  }
 },
 "nbformat": 4,
 "nbformat_minor": 5
}
